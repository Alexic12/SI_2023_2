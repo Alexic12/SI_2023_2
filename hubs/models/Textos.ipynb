{
 "cells": [
  {
   "cell_type": "code",
   "execution_count": null,
   "metadata": {},
   "outputs": [],
   "source": [
    "import pandas as pd\n",
    "import numpy as np\n",
    "# Generar una matriz de 15x4 de números aleatorios entre 0 y 4\n",
    "\n",
    "matrix = np.random.randint(1,5, size=(60, 4))\n",
    "#print(matrix)\n",
    "matriz1 = pd.DataFrame(matrix, columns=['estado1', 'estado2', 'estado3', 'estado4'])\n",
    "matriz1\n",
    "#print(matriz1)\n",
    "#matriz1.to_excel('DatosExamen.xlsx', index = False)"
   ]
  }
 ],
 "metadata": {
  "kernelspec": {
   "display_name": "Python 3",
   "language": "python",
   "name": "python3"
  },
  "language_info": {
   "name": "python",
   "version": "3.9.12"
  }
 },
 "nbformat": 4,
 "nbformat_minor": 2
}
